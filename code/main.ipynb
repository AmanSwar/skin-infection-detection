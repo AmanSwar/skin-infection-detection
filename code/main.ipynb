{
 "cells": [
  {
   "cell_type": "code",
   "execution_count": 11,
   "metadata": {},
   "outputs": [],
   "source": [
    "import torch\n",
    "import torch.nn as nn\n",
    "from torch.utils.data import Dataset , DataLoader , Subset\n",
    "from torchvision.transforms import v2\n",
    "import torchvision.transforms.functional as F\n",
    "from PIL import Image\n",
    "import os\n",
    "import random\n",
    "import torch.optim as optim\n",
    "\n"
   ]
  },
  {
   "cell_type": "code",
   "execution_count": 12,
   "metadata": {},
   "outputs": [],
   "source": [
    "# config.py\n",
    "\n",
    "DATA_DIR = \"/home/aman/code/CV/skin_infec_detect/data/IMG_CLASSES\"\n",
    "DEVICE = \"cuda\"\n",
    "BATCH_SIZE = 32\n",
    "LEARNING_RATE = 0.001\n",
    "NUM_EPOCHS = 30\n",
    "CLASSES = []\n",
    "DEPTH = 121\n",
    "GROWTH_RATE = 32\n",
    "REDUCTION_RATE = 0.5\n",
    "DROP_RATE = 0.3\n",
    "LOSS_FN = nn.BCEWithLogitsLoss()\n",
    "CLASS_WEIGHTS = []\n",
    "DATA_SIZE = sum([len(os.listdir(os.path.join(DATA_DIR , i))) for i in os.listdir(DATA_DIR)])\n",
    "\n",
    "\n",
    "# tranformation\n",
    "\n",
    "# base transformation\n",
    "\n",
    "base_transform = v2.Compose(\n",
    "    [\n",
    "        v2.Resize((256,256))\n",
    "    ]\n",
    ")\n",
    "\n",
    "# flipping \n",
    "trans_flip = v2.Compose(\n",
    "    [\n",
    "        v2.RandomHorizontalFlip(p=0.8)\n",
    "    ]\n",
    ")\n",
    "\n",
    "new_h = random.randrange(200 ,256)\n",
    "new_w = random.randrange(200 , 256)\n",
    "\n",
    "trans_zoom = v2.Compose(\n",
    "    [\n",
    "        v2.RandomCrop(size=(new_h , new_w))\n",
    "    ]\n",
    ")\n",
    "\n",
    "# rotation \n",
    "trans_rotate = v2.Compose(\n",
    "    [\n",
    "        v2.RandomRotation(degrees=(-10 , 10))\n",
    "    ]\n",
    ")\n",
    "\n",
    "def adjust_brightness(image):\n",
    "\n",
    "    factor = random.uniform(0.5 , 1.9)\n",
    "\n",
    "    return F.adjust_brightness(image , factor)\n",
    "\n",
    "TRANS_ALL = [trans_flip , trans_zoom , trans_rotate , adjust_brightness]\n",
    "\n"
   ]
  },
  {
   "cell_type": "code",
   "execution_count": 13,
   "metadata": {},
   "outputs": [],
   "source": [
    "# utils.py\n",
    "\n",
    "def get_classes(data_dir):\n",
    "    \n",
    "    for i in os.listdir(data_dir):\n",
    "        if i not in CLASSES:\n",
    "            CLASSES.append(i)\n",
    "\n",
    "def apply_transformations(img , image_dir , image_name):\n",
    "    print(\"I am here\")\n",
    "    img = base_transform(img)\n",
    "    for trans in TRANS_ALL:\n",
    "\n",
    "        trans_img = trans(img)\n",
    "        filename = f\"{image_dir}_{trans}_{image_name}\"\n",
    "        filepath = os.path.join(image_dir , filename)\n",
    "        print(filepath)\n",
    "        trans_img.save(filepath)\n",
    "        \n",
    "def custom_weights():\n",
    "    # weights = total samples / no. of samples in that grp\n",
    "    \n",
    "    for i in range(len(CLASSES)):\n",
    "        weight_ = DATA_SIZE / len(os.listdir(os.path.join(DATA_DIR , CLASSES[i])))\n",
    "        CLASS_WEIGHTS.append(weight_)\n",
    "\n",
    "\n",
    "\n"
   ]
  },
  {
   "cell_type": "code",
   "execution_count": null,
   "metadata": {},
   "outputs": [],
   "source": [
    "# data_aug.py\n",
    "\n",
    "# for i in CLASSES:\n",
    "#     print(\"hi\")\n",
    "#     image_dir = os.path.join(DATA_DIR , i)\n",
    "\n",
    "#     for image_name in os.listdir(image_dir):\n",
    "\n",
    "#         image_path = os.path.join(image_dir , image_name)\n",
    "\n",
    "#         img = Image.open(image_path)\n",
    "\n",
    "#         apply_transformations(img , image_dir=image_dir , image_name=image_name)\n"
   ]
  },
  {
   "cell_type": "code",
   "execution_count": 7,
   "metadata": {},
   "outputs": [
    {
     "name": "stdout",
     "output_type": "stream",
     "text": [
      "14\n",
      "Atopic Dermatitis , 6285\n",
      "Vascular lesion , 500\n",
      "Melanoma , 15700\n",
      "Squamous cell carcinoma , 500\n",
      "Dermatofibroma , 500\n",
      "Eczema , 8385\n",
      "Seborrheic Keratoses and other Benign Tumors , 9235\n",
      "Benign Keratosis-like Lesions , 10395\n",
      "Tinea Ringworm Candidiasis and other Fungal Infections , 8510\n",
      "Warts Molluscum and other Viral Infections , 10515\n",
      "Psoriasis pictures Lichen Planus , 10275\n",
      "Melanocytic Nevi , 39850\n",
      "Basal Cell Carcinoma , 16615\n",
      "Actinic keratosis , 500\n"
     ]
    },
    {
     "data": {
      "text/plain": [
       "137765"
      ]
     },
     "execution_count": 7,
     "metadata": {},
     "output_type": "execute_result"
    }
   ],
   "source": [
    "\n",
    "folder_dir = \"/home/aman/code/CV/skin_infec_detect/data/IMG_CLASSES\"\n",
    "s = 0\n",
    "print(len(os.listdir(folder_dir)))\n",
    "for i in os.listdir(folder_dir):\n",
    "\n",
    "   \n",
    "    s += len(os.listdir(os.path.join(folder_dir , i)))\n",
    "    print(f\"{i} , {len(os.listdir(os.path.join(folder_dir , i)))}\")\n",
    "\n",
    "s"
   ]
  },
  {
   "cell_type": "code",
   "execution_count": 17,
   "metadata": {},
   "outputs": [
    {
     "data": {
      "text/plain": [
       "28"
      ]
     },
     "execution_count": 17,
     "metadata": {},
     "output_type": "execute_result"
    }
   ],
   "source": [
    "# model.py\n",
    "\n"
   ]
  }
 ],
 "metadata": {
  "kernelspec": {
   "display_name": "Python 3",
   "language": "python",
   "name": "python3"
  },
  "language_info": {
   "codemirror_mode": {
    "name": "ipython",
    "version": 3
   },
   "file_extension": ".py",
   "mimetype": "text/x-python",
   "name": "python",
   "nbconvert_exporter": "python",
   "pygments_lexer": "ipython3",
   "version": "3.1.-1"
  }
 },
 "nbformat": 4,
 "nbformat_minor": 2
}
